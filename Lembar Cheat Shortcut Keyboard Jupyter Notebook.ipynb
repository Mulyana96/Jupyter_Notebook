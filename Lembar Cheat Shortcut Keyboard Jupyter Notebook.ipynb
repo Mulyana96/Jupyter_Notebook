{
 "cells": [
  {
   "cell_type": "markdown",
   "id": "b0678e36",
   "metadata": {
    "slideshow": {
     "slide_type": "notes"
    }
   },
   "source": [
    "Shortcut                Aksi\n",
    "1. Shift + Enter        Jalankan sel saat ini dan pilih sel di bawahnya.\n",
    "2. Ctrl + Enter         Jalankan sel saat ini.\n",
    "3. Alt + Enter          Jalankan sel saat ini dan sisipkan sel baru di bawahnya.\n",
    "4. Esc                  Beralih ke mode perintah.\n",
    "5. Enter                Beralih ke mode edit.\n",
    "6. A                    Sisipkan sel baru di atas sel saat ini.\n",
    "7. B                    Sisipkan sel baru di bawah sel saat ini.\n",
    "8. D, D                 Hapus sel saat ini.\n",
    "9. Z                    Batalkan penghapusan sel.\n",
    "10. Y                   Ubah jenis sel menjadi kode.\n",
    "11. M                   Ubah jenis sel menjadi markdown.\n",
    "12. Shift + M           Gabungkan sel yang dipilih.\n",
    "13. Ctrl + Shift + -    Pisahkan sel saat ini pada kursor.\n",
    "14. Shift + Tab         Tampilkan docstring untuk objek pada kursor.\n",
    "15. Ctrl + S            Simpan notebook.\n",
    "16. o                   Toggle scrolling output.\n",
    "17. L                   Toggle nomor baris pada sel saat ini.\n",
    "18. I, I                Interupsi kernel.\n",
    "19. 0, 0                Restart kernel.\n",
    "20.                     Tampilkan shortcut keyboard."
   ]
  }
 ],
 "metadata": {
  "celltoolbar": "Slideshow",
  "kernelspec": {
   "display_name": "Python 3 (ipykernel)",
   "language": "python",
   "name": "python3"
  },
  "language_info": {
   "codemirror_mode": {
    "name": "ipython",
    "version": 3
   },
   "file_extension": ".py",
   "mimetype": "text/x-python",
   "name": "python",
   "nbconvert_exporter": "python",
   "pygments_lexer": "ipython3",
   "version": "3.11.9"
  }
 },
 "nbformat": 4,
 "nbformat_minor": 5
}
